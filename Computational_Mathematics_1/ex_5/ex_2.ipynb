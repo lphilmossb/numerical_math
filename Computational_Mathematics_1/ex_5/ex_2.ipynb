{
 "cells": [
  {
   "cell_type": "code",
   "execution_count": 3,
   "metadata": {},
   "outputs": [
    {
     "name": "stdout",
     "output_type": "stream",
     "text": [
      "solution to Ax = b:\n",
      "[ 2.9  -0.1  -0.25]\n"
     ]
    }
   ],
   "source": [
    "import numpy as np\n",
    "\n",
    "import numpy as np\n",
    "import matplotlib.pyplot as plt\n",
    "\n",
    "from Fitter import Fitter\n",
    "from pandas import DataFrame\n",
    "from gauss import GaussElim\n",
    "from Polynomial import Polynomial\n",
    "from QR import QR\n",
    "\n",
    "np.printoptions(precision=2)\n",
    "\n",
    "A = np.array([[1, -1, 4],[1,4,-2], [1,4,2], [1, -1, 0]])\n",
    "b = np.array([1,2,3,4])\n",
    "\n",
    "x = QR(A,b,mode='solve')\n",
    "print(f'solution to Ax = b:\\n{x}')"
   ]
  }
 ],
 "metadata": {
  "kernelspec": {
   "display_name": "Python 3.10.8 64-bit",
   "language": "python",
   "name": "python3"
  },
  "language_info": {
   "codemirror_mode": {
    "name": "ipython",
    "version": 3
   },
   "file_extension": ".py",
   "mimetype": "text/x-python",
   "name": "python",
   "nbconvert_exporter": "python",
   "pygments_lexer": "ipython3",
   "version": "3.10.8"
  },
  "orig_nbformat": 4,
  "vscode": {
   "interpreter": {
    "hash": "e7370f93d1d0cde622a1f8e1c04877d8463912d04d973331ad4851f04de6915a"
   }
  }
 },
 "nbformat": 4,
 "nbformat_minor": 2
}
