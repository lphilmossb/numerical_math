{
 "cells": [
  {
   "cell_type": "code",
   "execution_count": 2,
   "metadata": {},
   "outputs": [
    {
     "name": "stdout",
     "output_type": "stream",
     "text": [
      "14\n",
      "1110\n"
     ]
    }
   ],
   "source": [
    "import numpy as np\n",
    "from numpy import array, flip, sum, floor\n",
    "\n",
    "def base_b_to_dec(c : int, n : int, b : int) -> int:\n",
    "    digits  = array([ int(d) for d in str(c) ])\n",
    "    bpowers = array([ b**(n-i-1) for i in range(n) ])\n",
    "    return sum(digits * bpowers)  \n",
    "    \n",
    "def dec_to_base_b(m : int, b : int) -> int:\n",
    "    n = -1\n",
    "    rval = ''\n",
    "    while m > 0:\n",
    "        n += 1\n",
    "        rval += str(m % b)\n",
    "        m = int(floor(m / b))\n",
    "    return int(rval[::-1])\n",
    "    \n",
    "c = 1110\n",
    "m = 14\n",
    "\n",
    "print(base_b_to_dec(c, 4, 2))\n",
    "print(dec_to_base_b(m, 2))"
   ]
  }
 ],
 "metadata": {
  "kernelspec": {
   "display_name": "Python 3.10.7 64-bit",
   "language": "python",
   "name": "python3"
  },
  "language_info": {
   "codemirror_mode": {
    "name": "ipython",
    "version": 3
   },
   "file_extension": ".py",
   "mimetype": "text/x-python",
   "name": "python",
   "nbconvert_exporter": "python",
   "pygments_lexer": "ipython3",
   "version": "3.10.8"
  },
  "orig_nbformat": 4,
  "vscode": {
   "interpreter": {
    "hash": "e7370f93d1d0cde622a1f8e1c04877d8463912d04d973331ad4851f04de6915a"
   }
  }
 },
 "nbformat": 4,
 "nbformat_minor": 2
}
