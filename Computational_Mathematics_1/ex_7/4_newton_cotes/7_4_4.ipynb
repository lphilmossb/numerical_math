{
 "cells": [
  {
   "cell_type": "code",
   "execution_count": 5,
   "metadata": {},
   "outputs": [
    {
     "name": "stdout",
     "output_type": "stream",
     "text": [
      "n = 1: 0.7849814972267897\n",
      "n = 2: 1.063308662969053\n",
      "n = 3: 0.8285337531994043\n",
      "n = 4: 0.7229290022682638\n",
      "true: 0.7853981633974483\n"
     ]
    }
   ],
   "source": [
    "import numpy as np\n",
    "import sympy as sp\n",
    "from ncotes import NCotes, SummedNCotes\n",
    "import matplotlib.pyplot as plt\n",
    "\n",
    "\n",
    "f = lambda x : 1 / (1+ x**2)\n",
    "N = 10\n",
    "\n",
    "for k in range(1,5):\n",
    "    I = SummedNCotes(0, 1, k, N)\n",
    "    print(f'n = {k}: {I.integrate(f)}')\n",
    "\n",
    "print(f'true: {np.pi/4}')"
   ]
  },
  {
   "cell_type": "code",
   "execution_count": null,
   "metadata": {},
   "outputs": [],
   "source": [
    "\n"
   ]
  }
 ],
 "metadata": {
  "kernelspec": {
   "display_name": "Python 3.10.9 64-bit",
   "language": "python",
   "name": "python3"
  },
  "language_info": {
   "codemirror_mode": {
    "name": "ipython",
    "version": 3
   },
   "file_extension": ".py",
   "mimetype": "text/x-python",
   "name": "python",
   "nbconvert_exporter": "python",
   "pygments_lexer": "ipython3",
   "version": "3.10.9"
  },
  "orig_nbformat": 4,
  "vscode": {
   "interpreter": {
    "hash": "e7370f93d1d0cde622a1f8e1c04877d8463912d04d973331ad4851f04de6915a"
   }
  }
 },
 "nbformat": 4,
 "nbformat_minor": 2
}
