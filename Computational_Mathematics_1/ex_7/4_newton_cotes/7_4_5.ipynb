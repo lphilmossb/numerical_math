{
 "cells": [
  {
   "cell_type": "code",
   "execution_count": 25,
   "metadata": {},
   "outputs": [
    {
     "data": {
      "image/png": "[encoded data removed]",
      "text/plain": [
       "<Figure size 432x288 with 1 Axes>"
      ]
     },
     "metadata": {
      "needs_background": "light"
     },
     "output_type": "display_data"
    }
   ],
   "source": [
    "import numpy as np\n",
    "import sympy as sp\n",
    "from ncotes import SummedNCotes\n",
    "import matplotlib.pyplot as plt\n",
    "\n",
    "\n",
    "f = lambda x : 1 / (1 + x**2)\n",
    "exact = 0.25 * np.pi\n",
    "\n",
    "k_values = [1,2,3,4,5,6]\n",
    "errors = np.zeros((2, len(k_values)))\n",
    "\n",
    "for k in k_values:\n",
    "    I = SummedNCotes(0, 1, 2, 2**k)\n",
    "    approx = I.integrate(f)\n",
    "    errors[0,k-1] = np.abs(exact - approx)\n",
    "\n",
    "for k in k_values:\n",
    "    I = SummedNCotes(0, 1, 3, 2**k)\n",
    "    approx = I.integrate(f)\n",
    "    errors[1,k-1] = np.abs(exact - approx)\n",
    "\n",
    "\n",
    "data = np.column_stack((k_values, errors[0,:], errors[1,:]))\n",
    "# np.savetxt('errors.csv', data, header='k,simpson,newton', comments='', delimiter=',')\n",
    "\n",
    "plt.plot(k_values, errors[0,:])\n",
    "plt.plot(k_values, errors[1,:])\n",
    "\n",
    "plt.show()"
   ]
  },
  {
   "cell_type": "code",
   "execution_count": null,
   "metadata": {},
   "outputs": [],
   "source": []
  }
 ],
 "metadata": {
  "kernelspec": {
   "display_name": "Python 3.10.9 64-bit",
   "language": "python",
   "name": "python3"
  },
  "language_info": {
   "codemirror_mode": {
    "name": "ipython",
    "version": 3
   },
   "file_extension": ".py",
   "mimetype": "text/x-python",
   "name": "python",
   "nbconvert_exporter": "python",
   "pygments_lexer": "ipython3",
   "version": "3.10.9"
  },
  "orig_nbformat": 4,
  "vscode": {
   "interpreter": {
    "hash": "e7370f93d1d0cde622a1f8e1c04877d8463912d04d973331ad4851f04de6915a"
   }
  }
 },
 "nbformat": 4,
 "nbformat_minor": 2
}
