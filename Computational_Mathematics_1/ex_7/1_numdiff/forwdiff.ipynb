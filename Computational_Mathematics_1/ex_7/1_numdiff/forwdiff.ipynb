{
 "cells": [
  {
   "cell_type": "code",
   "execution_count": 1,
   "metadata": {},
   "outputs": [
    {
     "name": "stdout",
     "output_type": "stream",
     "text": [
      "first derivatives\n",
      "f'(0) = 0.9675\n",
      "p'(0) = 0.9675000000000001\n",
      "f'(0.2) = 0.382\n",
      "p'(0.2) = 0.382\n",
      "second derivatives\n",
      "f''(0) = -2.97\n",
      "p''(0) = -2.970000000000003\n",
      "f''(0.2) = -1.5399999999999996\n",
      "p''(0.2) = -1.5399999999999987\n"
     ]
    }
   ],
   "source": [
    "import numpy as np\n",
    "import matplotlib.pyplot as plt\n",
    "from numdiff import inter_dfdx, dfdx, df2dx\n",
    "\n",
    "x_data = np.arange(0.0, 0.5, 0.1 )\n",
    "y_data = np.array([0, 0.0819, 0.1341, 0.1646, 0.1797])\n",
    "\n",
    "\n",
    "print('first derivatives')\n",
    "print(f'f\\'(0) = {dfdx(y_data, x_data, 0)}')\n",
    "print(f'p\\'(0) = {inter_dfdx(y_data, x_data, 0)}')\n",
    "print(f'f\\'(0.2) = {dfdx(y_data, x_data, 0.2)}')\n",
    "print(f'p\\'(0.2) = {inter_dfdx(y_data, x_data, 0.2)}')\n",
    "print('second derivatives')\n",
    "print(f'f\\'\\'(0) = {df2dx(y_data, x_data, 0)}')\n",
    "print(f'p\\'\\'(0) = {inter_dfdx(y_data, x_data, 0, 2)}')\n",
    "print(f'f\\'\\'(0.2) = {df2dx(y_data, x_data, 0.2)}')\n",
    "print(f'p\\'\\'(0.2) = {inter_dfdx(y_data, x_data, 0.2, 2)}')"
   ]
  }
 ],
 "metadata": {
  "kernelspec": {
   "display_name": "Python 3.10.9 64-bit",
   "language": "python",
   "name": "python3"
  },
  "language_info": {
   "codemirror_mode": {
    "name": "ipython",
    "version": 3
   },
   "file_extension": ".py",
   "mimetype": "text/x-python",
   "name": "python",
   "nbconvert_exporter": "python",
   "pygments_lexer": "ipython3",
   "version": "3.10.9"
  },
  "orig_nbformat": 4,
  "vscode": {
   "interpreter": {
    "hash": "e7370f93d1d0cde622a1f8e1c04877d8463912d04d973331ad4851f04de6915a"
   }
  }
 },
 "nbformat": 4,
 "nbformat_minor": 2
}
