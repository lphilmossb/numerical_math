{
 "cells": [
  {
   "cell_type": "code",
   "execution_count": 3,
   "metadata": {},
   "outputs": [
    {
     "name": "stdout",
     "output_type": "stream",
     "text": [
      "my FFT\n",
      "x = [1 1 1 1]\n",
      "X = [4.+0.j 0.+0.j 0.+0.j 0.+0.j]\n",
      "\n",
      "X = [1 1 1 1]\n",
      "x = [1.+0.j 0.+0.j 0.+0.j 0.+0.j]\n",
      "\n",
      "x = [1 1 1 1 0 0 0 0]\n",
      "X = [4.+0.j         1.-2.4142137j  0.+0.j         1.-0.41421357j\n",
      " 0.+0.j         1.+0.41421357j 0.+0.j         1.+2.4142137j ]\n",
      "\n",
      "X = [1 1 1 1 0 0 0 0]\n",
      "x = [0.5  +0.j        0.125+0.3017767j 0.   +0.j        0.125+0.0517767j\n",
      " 0.   +0.j        0.125-0.0517767j 0.   +0.j        0.125-0.3017767j]\n",
      "\n",
      "x = [1 0 1 0 1 0 1 0]\n",
      "X = [4.+0.j 0.+0.j 0.+0.j 0.+0.j 4.+0.j 0.+0.j 0.+0.j 0.+0.j]\n",
      "\n",
      "X = [1 0 1 0 1 0 1 0]\n",
      "x = [0.5+0.j 0. +0.j 0. +0.j 0. +0.j 0.5+0.j 0. +0.j 0. +0.j 0. +0.j]\n",
      "\n"
     ]
    }
   ],
   "source": [
    "from fft import FFT, iFFT\n",
    "import numpy as np\n",
    "from scipy.fft import fft, ifft, fftfreq, fftshift\n",
    "import matplotlib.pyplot as plt\n",
    "\n",
    "f1 = np.array([1,1,1,1])\n",
    "f2 = np.array([1,1,1,1,0,0,0,0])\n",
    "f3 = np.array([1,0,1,0,1,0,1,0])\n",
    "\n",
    "data = [f1,f2,f3]\n",
    "\n",
    "print('my FFT')\n",
    "for i,x in enumerate(data):\n",
    "    print(f'x = {x}\\nX = {FFT(x)}\\n')\n",
    "    print(f'X = {x}\\nx = {iFFT(x)}\\n')\n",
    "\n"
   ]
  }
 ],
 "metadata": {
  "kernelspec": {
   "display_name": "Python 3.10.9 64-bit",
   "language": "python",
   "name": "python3"
  },
  "language_info": {
   "codemirror_mode": {
    "name": "ipython",
    "version": 3
   },
   "file_extension": ".py",
   "mimetype": "text/x-python",
   "name": "python",
   "nbconvert_exporter": "python",
   "pygments_lexer": "ipython3",
   "version": "3.10.9"
  },
  "orig_nbformat": 4,
  "vscode": {
   "interpreter": {
    "hash": "e7370f93d1d0cde622a1f8e1c04877d8463912d04d973331ad4851f04de6915a"
   }
  }
 },
 "nbformat": 4,
 "nbformat_minor": 2
}
