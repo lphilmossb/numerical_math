{
 "cells": [
  {
   "cell_type": "code",
   "execution_count": 10,
   "metadata": {},
   "outputs": [
    {
     "name": "stdout",
     "output_type": "stream",
     "text": [
      "1\n"
     ]
    },
    {
     "data": {
      "text/latex": [
       "$\\displaystyle 1.0 - 2.0 x$"
      ],
      "text/plain": [
       "1.0 - 2.0*x"
      ]
     },
     "metadata": {},
     "output_type": "display_data"
    },
    {
     "data": {
      "text/latex": [
       "$\\displaystyle 2.0 x$"
      ],
      "text/plain": [
       "2.0*x"
      ]
     },
     "metadata": {},
     "output_type": "display_data"
    },
    {
     "data": {
      "text/latex": [
       "$\\displaystyle 2.0 x + 1.0$"
      ],
      "text/plain": [
       "2.0*x + 1.0"
      ]
     },
     "metadata": {},
     "output_type": "display_data"
    },
    {
     "name": "stdout",
     "output_type": "stream",
     "text": [
      "2\n"
     ]
    },
    {
     "data": {
      "text/latex": [
       "$\\displaystyle 1.0 \\left(x - 1\\right) \\left(2.0 x - 1.0\\right)$"
      ],
      "text/plain": [
       "1.0*(x - 1)*(2.0*x - 1.0)"
      ]
     },
     "metadata": {},
     "output_type": "display_data"
    },
    {
     "data": {
      "text/latex": [
       "$\\displaystyle 4.0 x \\left(1 - x\\right)$"
      ],
      "text/plain": [
       "4.0*x*(1 - x)"
      ]
     },
     "metadata": {},
     "output_type": "display_data"
    },
    {
     "data": {
      "text/latex": [
       "$\\displaystyle x \\left(2.0 x - 1.0\\right)$"
      ],
      "text/plain": [
       "x*(2.0*x - 1.0)"
      ]
     },
     "metadata": {},
     "output_type": "display_data"
    },
    {
     "data": {
      "text/latex": [
       "$\\displaystyle 2.0 x + 1.0$"
      ],
      "text/plain": [
       "2.0*x + 1.0"
      ]
     },
     "metadata": {},
     "output_type": "display_data"
    },
    {
     "name": "stdout",
     "output_type": "stream",
     "text": [
      "3\n"
     ]
    },
    {
     "data": {
      "text/latex": [
       "$\\displaystyle - 1.33333333333333 x^{3} + 4.0 x^{2} - 3.66666666666667 x + 1.0$"
      ],
      "text/plain": [
       "-1.33333333333333*x**3 + 4.0*x**2 - 3.66666666666667*x + 1.0"
      ]
     },
     "metadata": {},
     "output_type": "display_data"
    },
    {
     "data": {
      "text/latex": [
       "$\\displaystyle 4.0 x \\left(1.0 x - 1.5\\right) \\left(x - 1\\right)$"
      ],
      "text/plain": [
       "4.0*x*(1.0*x - 1.5)*(x - 1)"
      ]
     },
     "metadata": {},
     "output_type": "display_data"
    },
    {
     "data": {
      "text/latex": [
       "$\\displaystyle x \\left(- 4.0 x^{2} + 8.0 x - 3.0\\right)$"
      ],
      "text/plain": [
       "x*(-4.0*x**2 + 8.0*x - 3.0)"
      ]
     },
     "metadata": {},
     "output_type": "display_data"
    },
    {
     "data": {
      "text/latex": [
       "$\\displaystyle 1.33333333333333 x \\left(x - 1\\right) \\left(1.0 x - 0.5\\right)$"
      ],
      "text/plain": [
       "1.33333333333333*x*(x - 1)*(1.0*x - 0.5)"
      ]
     },
     "metadata": {},
     "output_type": "display_data"
    },
    {
     "data": {
      "text/latex": [
       "$\\displaystyle - 8.88178419700125 \\cdot 10^{-16} x^{3} + 2.0 x + 1.0$"
      ],
      "text/plain": [
       "-8.88178419700125e-16*x**3 + 2.0*x + 1.0"
      ]
     },
     "metadata": {},
     "output_type": "display_data"
    }
   ],
   "source": [
    "import numpy as np\n",
    "import sympy as sp\n",
    "from scipy.interpolate import lagrange\n",
    "\n",
    "x = sp.symbols('x')\n",
    "def ljn(x_data, j, n):\n",
    "    xj = x_data[j]\n",
    "    xtmp = np.delete(x_data, j)[:n]\n",
    "    return sp.simplify(np.prod((x-xtmp) / (xj - xtmp)))\n",
    "    \n",
    "\n",
    "def pn(x_data, y_data, n):\n",
    "    pn = 0\n",
    "    for j in range(n+1):\n",
    "        pn += y_data[j] * ljn(x_data, j, n)\n",
    "    return sp.simplify(pn)\n",
    "\n",
    "\n",
    "x_data = [0, 1/2, 1, 3/2]\n",
    "y_data = [1,2,3,4]\n",
    "\n",
    "for n in [1,2,3]:\n",
    "    print(n)\n",
    "    for j in range(n+1):\n",
    "        display(ljn(x_data, j, n))\n",
    "    display(pn(x_data, y_data, n))\n",
    "\n"
   ]
  }
 ],
 "metadata": {
  "kernelspec": {
   "display_name": "Python 3.10.8 64-bit",
   "language": "python",
   "name": "python3"
  },
  "language_info": {
   "codemirror_mode": {
    "name": "ipython",
    "version": 3
   },
   "file_extension": ".py",
   "mimetype": "text/x-python",
   "name": "python",
   "nbconvert_exporter": "python",
   "pygments_lexer": "ipython3",
   "version": "3.10.8"
  },
  "orig_nbformat": 4,
  "vscode": {
   "interpreter": {
    "hash": "e7370f93d1d0cde622a1f8e1c04877d8463912d04d973331ad4851f04de6915a"
   }
  }
 },
 "nbformat": 4,
 "nbformat_minor": 2
}
