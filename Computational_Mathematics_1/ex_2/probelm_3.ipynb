{
 "cells": [
  {
   "cell_type": "code",
   "execution_count": 1,
   "metadata": {},
   "outputs": [
    {
     "name": "stdout",
     "output_type": "stream",
     "text": [
      "[[-23   9 -17]\n",
      " [-96  79  -8]\n",
      " [ 23 -17  58]]\n",
      "[[-23.   9. -17.]\n",
      " [-96.  79.  -8.]\n",
      " [ 23. -17.  58.]]\n"
     ]
    }
   ],
   "source": [
    "import numpy as np\n",
    "from numpy import ndarray as Matrix\n",
    "\n",
    "\n",
    "def matprod(A : Matrix, B : Matrix) -> Matrix:\n",
    "    n, ma = 0,0\n",
    "    mb, p = 0,0\n",
    "\n",
    "    if isinstance(A.shape, tuple):\n",
    "        n, ma = A.shape\n",
    "    elif isinstance(A.shape, int):\n",
    "        n = A.shape / A[0].shape\n",
    "        ma = n\n",
    "    if isinstance(B.shape, tuple):\n",
    "        mb, p = B.shape\n",
    "    elif isinstance(B.shape, int):\n",
    "        p = B.shape / B[0].shape\n",
    "        mb = p\n",
    "\n",
    "    if ma != mb:\n",
    "        raise ValueError('dimension mismatch between A and B')\n",
    "    \n",
    "    C = np.zeros((n,p))\n",
    "    \n",
    "    for i in range(n):\n",
    "        for j in range(p):\n",
    "            for k in range(ma):\n",
    "                C[i][j] += A[i][k] * B[k][j]\n",
    "    return C\n",
    "\n",
    "A = np.array([[-2, 5, 1], [0, 8, -7], [9, -4, -3], ])\n",
    "B = np.array([[3, -4, 6,], [-5, 2, -1,], [8, -9, 0,]])\n",
    "\n",
    "print(A@B)\n",
    "print(matprod(A,B))"
   ]
  }
 ],
 "metadata": {
  "kernelspec": {
   "display_name": "Python 3.10.7 64-bit",
   "language": "python",
   "name": "python3"
  },
  "language_info": {
   "codemirror_mode": {
    "name": "ipython",
    "version": 3
   },
   "file_extension": ".py",
   "mimetype": "text/x-python",
   "name": "python",
   "nbconvert_exporter": "python",
   "pygments_lexer": "ipython3",
   "version": "3.10.7"
  },
  "orig_nbformat": 4,
  "vscode": {
   "interpreter": {
    "hash": "e7370f93d1d0cde622a1f8e1c04877d8463912d04d973331ad4851f04de6915a"
   }
  }
 },
 "nbformat": 4,
 "nbformat_minor": 2
}
