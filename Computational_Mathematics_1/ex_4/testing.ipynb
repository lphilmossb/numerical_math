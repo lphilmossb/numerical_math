{
 "cells": [
  {
   "cell_type": "code",
   "execution_count": 3,
   "metadata": {},
   "outputs": [
    {
     "data": {
      "text/plain": [
       "array([0., 0., 0., 0., 0.])"
      ]
     },
     "execution_count": 3,
     "metadata": {},
     "output_type": "execute_result"
    }
   ],
   "source": [
    "from numpy import pi, zeros, average, max, min, array\n",
    "from Crout import LUCSolver\n",
    "from LUP import LUP\n",
    "from Cholesky import CholeskySolver, CholeskyDecom\n",
    "from timeit import default_timer as timer\n",
    "from common import toeplitz_eigvec, An, toeplitz, Vandermonde\n",
    "\n",
    "from DirectSolver import DirectSolver\n",
    "\n",
    "import numpy as np\n",
    "\n",
    "v = array([1,2,3,5,4])\n",
    "A = Vandermonde(v)\n",
    "\n",
    "solver = DirectSolver()\n",
    "\n",
    "x = solver.solve(A, v)\n",
    "A@x - v"
   ]
  }
 ],
 "metadata": {
  "kernelspec": {
   "display_name": "Python 3.10.8 64-bit",
   "language": "python",
   "name": "python3"
  },
  "language_info": {
   "codemirror_mode": {
    "name": "ipython",
    "version": 3
   },
   "file_extension": ".py",
   "mimetype": "text/x-python",
   "name": "python",
   "nbconvert_exporter": "python",
   "pygments_lexer": "ipython3",
   "version": "3.10.8"
  },
  "orig_nbformat": 4,
  "vscode": {
   "interpreter": {
    "hash": "e7370f93d1d0cde622a1f8e1c04877d8463912d04d973331ad4851f04de6915a"
   }
  }
 },
 "nbformat": 4,
 "nbformat_minor": 2
}
