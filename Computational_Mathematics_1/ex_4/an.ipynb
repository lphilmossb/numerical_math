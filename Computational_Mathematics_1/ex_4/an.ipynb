{
 "cells": [
  {
   "cell_type": "code",
   "execution_count": 1,
   "metadata": {},
   "outputs": [],
   "source": [
    "import sympy as sp \n",
    "import numpy as np\n",
    "\n",
    "sp.init_printing()\n",
    "\n",
    "a,s1,s2 = sp.symbols('a,sigma_1,sigma_2')\n",
    "n,k,l = sp.symbols('n,k,l', integer=True, positive=True)\n",
    "\n",
    "D0 = 1\n",
    "D1 = a\n",
    "\n",
    "S = sp.Matrix([[a,-1],[1,0]])\n",
    "\n",
    "V = sp.Matrix([[s1,s2],[1,1]])\n",
    "L = sp.diag(s1**(n-1),s2**(n-1))\n",
    "v0 = sp.Matrix([[D1],[D0]])\n"
   ]
  }
 ],
 "metadata": {
  "kernelspec": {
   "display_name": "Python 3.10.8 64-bit",
   "language": "python",
   "name": "python3"
  },
  "language_info": {
   "codemirror_mode": {
    "name": "ipython",
    "version": 3
   },
   "file_extension": ".py",
   "mimetype": "text/x-python",
   "name": "python",
   "nbconvert_exporter": "python",
   "pygments_lexer": "ipython3",
   "version": "3.10.8"
  },
  "orig_nbformat": 4,
  "vscode": {
   "interpreter": {
    "hash": "e7370f93d1d0cde622a1f8e1c04877d8463912d04d973331ad4851f04de6915a"
   }
  }
 },
 "nbformat": 4,
 "nbformat_minor": 2
}
