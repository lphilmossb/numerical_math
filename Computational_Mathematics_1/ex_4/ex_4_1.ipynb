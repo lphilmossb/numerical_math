{
 "cells": [
  {
   "cell_type": "code",
   "execution_count": 1,
   "metadata": {},
   "outputs": [
    {
     "data": {
      "text/html": [
       "<div>\n",
       "<style scoped>\n",
       "    .dataframe tbody tr th:only-of-type {\n",
       "        vertical-align: middle;\n",
       "    }\n",
       "\n",
       "    .dataframe tbody tr th {\n",
       "        vertical-align: top;\n",
       "    }\n",
       "\n",
       "    .dataframe thead th {\n",
       "        text-align: right;\n",
       "    }\n",
       "</style>\n",
       "<table border=\"1\" class=\"dataframe\">\n",
       "  <thead>\n",
       "    <tr style=\"text-align: right;\">\n",
       "      <th></th>\n",
       "      <th>n</th>\n",
       "      <th>minimum eigenvalue</th>\n",
       "      <th>maximum eigenvalue</th>\n",
       "      <th>condition number</th>\n",
       "    </tr>\n",
       "  </thead>\n",
       "  <tbody>\n",
       "    <tr>\n",
       "      <th>0</th>\n",
       "      <td>10</td>\n",
       "      <td>9.802700</td>\n",
       "      <td>4.741973e+02</td>\n",
       "      <td>48.374150</td>\n",
       "    </tr>\n",
       "    <tr>\n",
       "      <th>1</th>\n",
       "      <td>100</td>\n",
       "      <td>9.868809</td>\n",
       "      <td>4.079413e+04</td>\n",
       "      <td>4133.642927</td>\n",
       "    </tr>\n",
       "    <tr>\n",
       "      <th>2</th>\n",
       "      <td>1000</td>\n",
       "      <td>9.869596</td>\n",
       "      <td>4.007994e+06</td>\n",
       "      <td>406095.042653</td>\n",
       "    </tr>\n",
       "  </tbody>\n",
       "</table>\n",
       "</div>"
      ],
      "text/plain": [
       "      n  minimum eigenvalue  maximum eigenvalue  condition number\n",
       "0    10            9.802700        4.741973e+02         48.374150\n",
       "1   100            9.868809        4.079413e+04       4133.642927\n",
       "2  1000            9.869596        4.007994e+06     406095.042653"
      ]
     },
     "metadata": {},
     "output_type": "display_data"
    }
   ],
   "source": [
    "from numpy import zeros, min, max, array\n",
    "from pandas import DataFrame\n",
    "from common import An_eigvals\n",
    "\n",
    "\n",
    "def analyze(n : array) -> None:\n",
    "    max_eig = zeros(len(n))\n",
    "    min_eig = zeros(len(n))\n",
    "    conds   = zeros(len(n))\n",
    "    \n",
    "    for i,k in enumerate(n):\n",
    "        top_eigvals = An_eigvals(k)\n",
    "        max_eig[i] = max(top_eigvals)\n",
    "        min_eig[i] = min(top_eigvals)\n",
    "        conds[i] = max_eig[i] / min_eig[i]\n",
    "    \n",
    "    df = DataFrame({\n",
    "        'n': n,\n",
    "        'minimum eigenvalue': min_eig,\n",
    "        'maximum eigenvalue': max_eig,\n",
    "        'condition number': conds\n",
    "    })\n",
    "    display(df)\n",
    "    \n",
    "analyze([10,100,1000])\n"
   ]
  }
 ],
 "metadata": {
  "kernelspec": {
   "display_name": "Python 3.10.8 64-bit",
   "language": "python",
   "name": "python3"
  },
  "language_info": {
   "codemirror_mode": {
    "name": "ipython",
    "version": 3
   },
   "file_extension": ".py",
   "mimetype": "text/x-python",
   "name": "python",
   "nbconvert_exporter": "python",
   "pygments_lexer": "ipython3",
   "version": "3.10.8"
  },
  "orig_nbformat": 4,
  "vscode": {
   "interpreter": {
    "hash": "e7370f93d1d0cde622a1f8e1c04877d8463912d04d973331ad4851f04de6915a"
   }
  }
 },
 "nbformat": 4,
 "nbformat_minor": 2
}
